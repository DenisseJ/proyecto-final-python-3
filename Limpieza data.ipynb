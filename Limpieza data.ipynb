{
 "cells": [
  {
   "cell_type": "markdown",
   "metadata": {},
   "source": [
    "### Limpieza"
   ]
  },
  {
   "cell_type": "markdown",
   "metadata": {},
   "source": [
    "### Arreglo fecha"
   ]
  },
  {
   "cell_type": "markdown",
   "metadata": {},
   "source": [
    "El día en que se hace el request la fecha aparece como \"Hoy\", por lo que se cambia a la fecha correspondiente."
   ]
  },
  {
   "cell_type": "code",
   "execution_count": 22,
   "metadata": {},
   "outputs": [],
   "source": [
    "import pandas as pd\n",
    "dia = \"dom 13\"\n",
    "a = \"13\"\n",
    "df = pd.read_csv(f\"./data/The-Weather-Channel-WebScrap-{a}-08-2023.csv\")\n",
    "# Verificar que los datos se hayan cargado correctamente\n"
   ]
  },
  {
   "cell_type": "code",
   "execution_count": 2,
   "metadata": {},
   "outputs": [],
   "source": [
    "db = df.replace(to_replace=\"Hoy\",\n",
    "           value=dia)"
   ]
  },
  {
   "cell_type": "code",
   "execution_count": 3,
   "metadata": {},
   "outputs": [],
   "source": [
    "db.to_csv(f\"./data/The-Weather-Channel-WebScrap-{a}-08-2023.csv\",index=False)"
   ]
  },
  {
   "cell_type": "markdown",
   "metadata": {},
   "source": [
    "### Acentos en fecha"
   ]
  },
  {
   "cell_type": "markdown",
   "metadata": {},
   "source": [
    "En la base de datos á aparece como Ã¡ y é como Ã©, por lo que se eliminaron los acentos."
   ]
  },
  {
   "cell_type": "code",
   "execution_count": 7,
   "metadata": {},
   "outputs": [],
   "source": [
    "def cambiar_acento_e(string):\n",
    "    return str(string).replace(\"é\",\"e\")\n",
    "def cambiar_acento_a(string):\n",
    "    return str(string).replace(\"á\",\"a\")\n"
   ]
  },
  {
   "cell_type": "code",
   "execution_count": 8,
   "metadata": {},
   "outputs": [],
   "source": [
    "import pandas as pd\n",
    "df = pd.read_csv(f\"./data/The-Weather-Channel-WebScrap-{a}-08-2023.csv\")"
   ]
  },
  {
   "cell_type": "code",
   "execution_count": 10,
   "metadata": {},
   "outputs": [],
   "source": [
    "df[\"Fecha\"] = df[\"Fecha\"].apply(cambiar_acento_a)\n",
    "df[\"Fecha\"] = df[\"Fecha\"].apply(cambiar_acento_e)"
   ]
  },
  {
   "cell_type": "code",
   "execution_count": 12,
   "metadata": {},
   "outputs": [],
   "source": [
    "df.to_csv(f\"./data/The-Weather-Channel-WebScrap-{a}-08-2023.csv\",index=False)"
   ]
  },
  {
   "cell_type": "markdown",
   "metadata": {},
   "source": [
    "### Arreglar grados en temperaturas"
   ]
  },
  {
   "cell_type": "code",
   "execution_count": 13,
   "metadata": {},
   "outputs": [],
   "source": [
    "import pandas as pd\n",
    "df = pd.read_csv(f\"./data/The-Weather-Channel-WebScrap-{a}-08-2023.csv\")"
   ]
  },
  {
   "cell_type": "code",
   "execution_count": 14,
   "metadata": {},
   "outputs": [],
   "source": [
    "def eliminar_grad(string):\n",
    "    return str(string).replace(\"°\",\"\")"
   ]
  },
  {
   "cell_type": "code",
   "execution_count": 15,
   "metadata": {},
   "outputs": [],
   "source": [
    "df[\"Temperatura maxima\"]=df[\"Temperatura maxima\"].apply(eliminar_grad)\n",
    "df[\"Temperatura minima\"]=df[\"Temperatura minima\"].apply(eliminar_grad)"
   ]
  },
  {
   "cell_type": "code",
   "execution_count": 16,
   "metadata": {},
   "outputs": [],
   "source": [
    "df.to_csv(f\"./data/The-Weather-Channel-WebScrap-{a}-08-2023.csv\",index=False)"
   ]
  },
  {
   "cell_type": "markdown",
   "metadata": {},
   "source": [
    "### Quitar porcentaje en humedad"
   ]
  },
  {
   "cell_type": "code",
   "execution_count": 17,
   "metadata": {},
   "outputs": [],
   "source": [
    "import pandas as pd\n",
    "df = pd.read_csv(f\"./data/The-Weather-Channel-WebScrap-{a}-08-2023.csv\")"
   ]
  },
  {
   "cell_type": "code",
   "execution_count": 18,
   "metadata": {},
   "outputs": [],
   "source": [
    "def eliminar_porcentaje(string):\n",
    "    return str(string).replace(\"%\",\"\")"
   ]
  },
  {
   "cell_type": "code",
   "execution_count": 19,
   "metadata": {},
   "outputs": [],
   "source": [
    "df[\"Probabilidad de lluvia\"]=df[\"Probabilidad de lluvia\"].apply(eliminar_porcentaje)\n",
    "df[\"Humedad dia\"]=df[\"Humedad dia\"].apply(eliminar_porcentaje)\n",
    "df[\"Humedad noche\"]=df[\"Humedad noche\"].apply(eliminar_porcentaje)"
   ]
  },
  {
   "cell_type": "code",
   "execution_count": 20,
   "metadata": {},
   "outputs": [],
   "source": [
    "df.to_csv(f\"./data/The-Weather-Channel-WebScrap-{a}-08-2023.csv\",index=False)"
   ]
  },
  {
   "cell_type": "markdown",
   "metadata": {},
   "source": [
    "### Arreglar ñ"
   ]
  },
  {
   "cell_type": "code",
   "execution_count": 40,
   "metadata": {},
   "outputs": [],
   "source": [
    "def poner_ñ(string):\n",
    "    return str(string).replace(\"Ã±\",\"ñ\")"
   ]
  },
  {
   "cell_type": "code",
   "execution_count": 41,
   "metadata": {},
   "outputs": [],
   "source": [
    "df = pd.read_csv(f\"./Clima.csv\")"
   ]
  },
  {
   "cell_type": "code",
   "execution_count": 42,
   "metadata": {},
   "outputs": [],
   "source": [
    "df[\"pronostico\"]=df[\"pronostico\"].apply(poner_ñ)"
   ]
  },
  {
   "cell_type": "code",
   "execution_count": 44,
   "metadata": {},
   "outputs": [],
   "source": [
    "df.to_csv(f\"./Clima.csv\",index=False)"
   ]
  },
  {
   "cell_type": "code",
   "execution_count": 49,
   "metadata": {},
   "outputs": [
    {
     "name": "stdout",
     "output_type": "stream",
     "text": [
      "<class 'pandas.core.frame.DataFrame'>\n",
      "RangeIndex: 180 entries, 0 to 179\n",
      "Data columns (total 19 columns):\n",
      " #   Column                    Non-Null Count  Dtype \n",
      "---  ------                    --------------  ----- \n",
      " 0   id                        180 non-null    int64 \n",
      " 1   fecha                     180 non-null    object\n",
      " 2   pronostico                180 non-null    object\n",
      " 3   temperatura_maxima        180 non-null    int64 \n",
      " 4   temperatura_minima        180 non-null    int64 \n",
      " 5   probabilidad_lluvia       180 non-null    int64 \n",
      " 6   viento_dia                180 non-null    int64 \n",
      " 7   direccion_viento_dia      180 non-null    object\n",
      " 8   viento_noche              180 non-null    int64 \n",
      " 9   direccion_viento_noche    180 non-null    object\n",
      " 10  humedad_dia_porcentaje    180 non-null    int64 \n",
      " 11  humedad_noche_porcentaje  180 non-null    int64 \n",
      " 12  indice_UV_dia             180 non-null    object\n",
      " 13  indice_UV_noche           180 non-null    object\n",
      " 14  amanecer                  180 non-null    object\n",
      " 15  puesta_solar              180 non-null    object\n",
      " 16  salida_lunar              173 non-null    object\n",
      " 17  puesta_lunar              176 non-null    object\n",
      " 18  fase_lunar                180 non-null    object\n",
      "dtypes: int64(8), object(11)\n",
      "memory usage: 26.8+ KB\n"
     ]
    }
   ],
   "source": [
    "df.info()"
   ]
  }
 ],
 "metadata": {
  "kernelspec": {
   "display_name": ".venv",
   "language": "python",
   "name": "python3"
  },
  "language_info": {
   "codemirror_mode": {
    "name": "ipython",
    "version": 3
   },
   "file_extension": ".py",
   "mimetype": "text/x-python",
   "name": "python",
   "nbconvert_exporter": "python",
   "pygments_lexer": "ipython3",
   "version": "3.11.4"
  },
  "orig_nbformat": 4
 },
 "nbformat": 4,
 "nbformat_minor": 2
}
